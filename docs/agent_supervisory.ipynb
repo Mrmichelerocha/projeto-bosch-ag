{
  "nbformat": 4,
  "nbformat_minor": 0,
  "metadata": {
    "colab": {
      "provenance": []
    },
    "kernelspec": {
      "name": "python3",
      "display_name": "Python 3"
    },
    "language_info": {
      "name": "python"
    }
  },
  "cells": [
    {
      "cell_type": "markdown",
      "source": [
        "# **🧠 O que é o ciclo BDI?**\n",
        "\n",
        "> ⚠️ Este Colab não foi feito para execução do codigo, criei por motivos de explicabilidade do codigo. O codigo deve ser rodado localmente no caminho /code.\n",
        "\n",
        "O **BDI (Belief-Desire-Intention)** é uma arquitetura de agentes baseada na forma como humanos tomam decisões racionais.\n",
        "\n",
        "O ciclo BDI funciona em três camadas:\n",
        "\n",
        "*   **Beliefs (Crenças): o que o agente sabe sobre o mundo.**\n",
        "*   **Desires (Desejos): o que ele quer alcançar.**\n",
        "*   **Intentions (Intenções): os planos escolhidos para agir com base nas crenças e desejos.**\n",
        "\n",
        "\n",
        "O agente repete continuamente esse ciclo:\n",
        "\n",
        "1. **Atualiza suas crenças com novas informações (ex: uma erva daninha detectada).**\n",
        "\n",
        "2. **Seleciona desejos relevantes com base nesse estado.**\n",
        "\n",
        "3. **Escolhe planos válidos (cujos contextos estão de acordo com as crenças).**\n",
        "\n",
        "4. **Executa ações para alcançar os objetivos.**\n",
        "\n",
        "5. **Volta ao início e reavalia tudo.**\n",
        "\n",
        "\n",
        "\n",
        "\n",
        "\n",
        "\n"
      ],
      "metadata": {
        "id": "fYa_xs4l57oA"
      }
    },
    {
      "cell_type": "code",
      "source": [
        "import requests\n",
        "import random\n",
        "import time\n",
        "import threading\n",
        "from flask import Flask, request, jsonify"
      ],
      "metadata": {
        "id": "UtEyyBML55l2"
      },
      "execution_count": null,
      "outputs": []
    },
    {
      "cell_type": "markdown",
      "source": [
        "### **Agente Supervisor** — `agent_supervisor.py`\n",
        "- O agente supervisor atua como um hardware mais avançado para detecção das anomalias nas plantas, usando inteligencia artificial para Analisa imagens recebidas do campo.\n",
        "- Simula uso de YOLO + Label Studio.\n",
        "- Detecta ervas daninhas com base em confiança (>0.8).\n",
        "- Atualiza suas crenças e envia comandos para os demais agentes.\n",
        "- Comunicação via `/agent` (GET/POST).\n",
        "\n",
        "> A ***PlanLibrary*** armazena os **planos do agente**, associando cada **objetivo (goal)** a um **contexto necessário (pré-condições)** e a uma **sequência de açõe**s que devem ser executadas quando aquele objetivo for ativado.\n",
        "A função ***get_plan()*** verifica se o contexto de um plano é compatível com **as crenças atuais (beliefs)**. Se for, retorna o plano associado; caso contrário, ignora."
      ],
      "metadata": {
        "id": "bekdxqXq55In"
      }
    },
    {
      "cell_type": "code",
      "execution_count": null,
      "metadata": {
        "id": "Bk0dgRjL5wym"
      },
      "outputs": [],
      "source": [
        "class PlanLibrary:\n",
        "    def __init__(self):\n",
        "        self.plans = {}\n",
        "\n",
        "    def set_plan_library(self, planlb):\n",
        "        self.plans = planlb\n",
        "\n",
        "    def add_plan(self, goal, prec, plan):\n",
        "        self.plans[goal] = {'context': prec, 'plan': plan}\n",
        "\n",
        "    def get_plan(self, goal, bb):\n",
        "        if goal in self.plans:\n",
        "            if set(self.plans[goal]['context'].items()).issubset(bb.items()):\n",
        "                return self.plans[goal]['plan']\n",
        "        return None"
      ]
    },
    {
      "cell_type": "markdown",
      "source": [
        "## 🔍 `class Action`\n",
        "\n",
        "Esta classe define as ações executadas pelo agente supervisor no sistema multiagente BDI. Ele atua como o cérebro analítico da operação, analisando imagens, detectando ameaças e coordenando os agentes de campo e herbicida.\n",
        "\n",
        "### 🧪 `verificar_erva_daninha()`\n",
        "\n",
        "Responsável por simular a análise de imagens utilizando um sistema de detecção como YOLO. (no **colab labelstudio_yollo** explico como implementar uma detecção usando o **esp32cam** juntamente com o **opencv** para o carregamento das imagens o **labelstudio** para treinamento personalizado da inteligencia artificial e o **yollov5** como analisador inteligente)\n",
        "\n",
        "**Fluxo:**\n",
        "1. Consulta o endpoint `/stream` do agente de campo para obter uma imagem.\n",
        "2. Simula o processamento da imagem com `sleep()` para representar o tempo de análise do modelo YOLO.\n",
        "3. Analisa uma lista de objetos simulados, incluindo `\"trigo\"` e `\"erva_daninha\"`, com nível de confiança.\n",
        "4. Se houver erva daninha com confiança > 0.8, atualiza a crença: erva_daninha_detectada: True\n",
        "\n",
        "5. Se houver erva daninha:\n",
        "   - Notifica o agente de campo para parar e enviar suas coordenadas.\n",
        "   - Aciona o agente herbicida para contenção de pragas.\n",
        "\n",
        "6. Atualiza suas crenças com base nas comunicações realizadas."
      ],
      "metadata": {
        "id": "kfhmYGPu6V5q"
      }
    },
    {
      "cell_type": "code",
      "source": [
        "class Action:\n",
        "    def verificar_erva_daninha(self):\n",
        "        try:\n",
        "            print(\"🎥 Buscando frame do agente de campo...\")\n",
        "            res = requests.get(\"http://127.0.0.1:5002/stream\", timeout=1)\n",
        "            if res.status_code != 200:\n",
        "                print(\"❌ Não foi possível obter o frame.\")\n",
        "                supervisor.add_beliefs({\"erva_daninha_detectada\": False})\n",
        "                return\n",
        "\n",
        "            frame = res.json().get(\"frame\")\n",
        "            print(f\"🧠 Frame recebido: {frame}\")\n",
        "            print(f\"🧠 Frame recebido: {frame}\")\n",
        "            print(f\"🧠 Frame recebido: {frame}\")\n",
        "            print(f\"🧠 Frame recebido: {frame}\")\n",
        "\n",
        "        except Exception as e:\n",
        "            print(f\"💥 Erro ao buscar frame: {e}\")\n",
        "            supervisor.add_beliefs({\"erva_daninha_detectada\": False})\n",
        "            return\n",
        "\n",
        "        print(\"🔍 YOLO simulado analise...\")\n",
        "        time.sleep(5)\n",
        "        print(\"🔍 YOLO simulado analise...\")\n",
        "        time.sleep(5)\n",
        "        print(\"🔍 YOLO simulado analise...\")\n",
        "        time.sleep(5)\n",
        "\n",
        "\n",
        "        detections = [\n",
        "            {\"class\": \"trigo\", \"confidence\": 0.88},\n",
        "            {\"class\": \"erva_daninha\", \"confidence\": 0.91},\n",
        "        ]\n",
        "\n",
        "        ervas = [d for d in detections if d[\"class\"] == \"erva_daninha\" and d[\"confidence\"] > 0.8]\n",
        "        detectado = len(ervas) > 0\n",
        "\n",
        "        supervisor.add_beliefs({\"erva_daninha_detectada\": detectado})\n",
        "        print(f\"📦 Simulação estruturada: {'ERVA DANINHA DETECTADA' if detectado else 'Somente trigo'}\")\n",
        "        print(f\"📦 Simulação estruturada: {'ERVA DANINHA DETECTADA' if detectado else 'Somente trigo'}\")\n",
        "        print(f\"📦 Simulação estruturada: {'ERVA DANINHA DETECTADA' if detectado else 'Somente trigo'}\")\n",
        "        print(f\"📦 Simulação estruturada: {'ERVA DANINHA DETECTADA' if detectado else 'Somente trigo'}\")\n",
        "\n",
        "    def enviar_alarme_para_agente_campo(self):\n",
        "        crença_agente_campo = {\"erva_daninha\": True}\n",
        "        try:\n",
        "            res = requests.post(\"http://192.168.15.4:5002/agent\", json=crença_agente_campo)\n",
        "            print(f\"📡 Enviado ao agente de campo: {crença_agente_campo} | Status: {res.status_code}\")\n",
        "        except Exception as e:\n",
        "            print(f\"❌ Erro ao enviar crença: {e}\")\n",
        "\n",
        "        supervisor.add_beliefs({\"agente_campo_comunicado\": True})\n",
        "\n",
        "    def enviar_alarme_para_agente_herbicida(self):\n",
        "        print(\"💨 Preparando envio de alarme para o agente herbicida...\")\n",
        "        time.sleep(5)\n",
        "\n",
        "        payload = {\n",
        "            \"aplicar_herbicida\": True,\n",
        "            \"coordenadas_agente_campo\": True,\n",
        "            \"erva_daninha_detectada\": True,\n",
        "        }\n",
        "\n",
        "        try:\n",
        "            res = requests.post(\"http://127.0.0.1:5004/agent\", json=payload)\n",
        "            print(f\"🧪 Herbicida acionado com sucesso! Status: {res.status_code}\")\n",
        "        except Exception as e:\n",
        "            print(f\"❌ Erro ao contatar agente herbicida: {e}\")\n",
        "\n",
        "        supervisor.add_beliefs({\"agente_herbicida_comunicado\": True})\n",
        "\n",
        "\n",
        "\n",
        "\n"
      ],
      "metadata": {
        "id": "hvPqzJaD6WVa"
      },
      "execution_count": null,
      "outputs": []
    },
    {
      "cell_type": "markdown",
      "source": [
        "### **🤖 Classe Agent (BDI)**\n",
        "\n",
        "A classe `Agent` implementa a lógica principal de um agente inteligente baseado no modelo BDI (*Beliefs-Desires-Intentions*)."
      ],
      "metadata": {
        "id": "qbyXnttq6b3E"
      }
    },
    {
      "cell_type": "code",
      "source": [
        "class Agent:\n",
        "    def __init__(self):\n",
        "        self.beliefs = {}\n",
        "        self.desires = []\n",
        "        self.intention = []\n",
        "        self.plan_library = PlanLibrary()\n",
        "\n",
        "    def get_desires(self):\n",
        "        return self.desires.pop() if self.desires else None\n",
        "\n",
        "    def add_desires(self, desire):\n",
        "        self.desires.append(desire)\n",
        "\n",
        "    def add_beliefs(self, beliefs):\n",
        "        self.beliefs.update(beliefs)\n",
        "\n",
        "    def set_plan_library(self, pl):\n",
        "        self.plan_library.set_plan_library(pl)\n",
        "\n",
        "    def update_intention(self, goal):\n",
        "        plan = self.plan_library.get_plan(goal, self.beliefs)\n",
        "        if plan:\n",
        "            self.intention.extend(plan)\n",
        "\n",
        "    def execute_intention(self):\n",
        "        while self.intention:\n",
        "            next_goal = self.intention.pop()\n",
        "            if self.plan_library.get_plan(next_goal, self.beliefs) is None:\n",
        "                action = getattr(Action(), next_goal)\n",
        "                action()\n",
        "            else:\n",
        "                self.intention.extend(self.plan_library.get_plan(next_goal, self.beliefs))\n",
        "\n",
        "\n"
      ],
      "metadata": {
        "id": "7yQ5UmJH6cm7"
      },
      "execution_count": null,
      "outputs": []
    },
    {
      "cell_type": "markdown",
      "source": [
        "### 🗺️ **Planos Definidos (set_plan_library)**\n",
        "\n",
        "O supervisor possui três planos principais, que são ativados conforme o estado das crenças:\n",
        "\n",
        "- **Analisar Monitoramento:**  \n",
        "  Se ainda não foi detectada nenhuma erva daninha, o supervisor executa a ação de verificação de imagem, simulando a análise de um novo frame.\n",
        "\n",
        "- **Acionar Agente de Campo:**  \n",
        "  Quando uma erva daninha é detectada e o agente de campo ainda não foi comunicado, o supervisor envia um alerta ao campo, solicitando coordenadas da área afetada.\n",
        "\n",
        "- **Acionar Agente Herbicida:**  \n",
        "  Após a detecção e comunicação com o campo, se o herbicida ainda não tiver sido acionado e as coordenadas estiverem disponíveis, o supervisor inicia o processo de contenção acionando o agente herbicida.\n",
        "\n",
        "\n",
        "🌐 Endpoint `/agent`\n",
        "\n",
        "O supervisor também expõe um endpoint REST chamado `/agent`, com dois modos:\n",
        "\n",
        "- `GET`: permite que qualquer outro agente ou usuário consulte as crenças atuais do supervisor.\n",
        "- `POST`: permite que outros agentes atualizem o estado do supervisor enviando novas crenças.\n",
        "\n",
        "Esse mecanismo permite que o supervisor se mantenha sincronizado com os demais agentes do sistema e reaja dinamicamente ao ambiente."
      ],
      "metadata": {
        "id": "LcsQMHBd6gNj"
      }
    },
    {
      "cell_type": "code",
      "source": [
        "supervisor = Agent()\n",
        "\n",
        "supervisor.add_beliefs({\n",
        "    \"erva_daninha_detectada\": False,\n",
        "    \"agente_campo_comunicado\": False,\n",
        "    \"agente_herbicida_comunicado\": False,\n",
        "    \"coordenadas_agente_campo\": False\n",
        "})\n",
        "\n",
        "supervisor.set_plan_library({\n",
        "    \"analisar_monitoramento\": {\n",
        "        \"context\": {\"erva_daninha_detectada\": False},\n",
        "        \"plan\": [\"verificar_erva_daninha\"]\n",
        "    },\n",
        "    \"acionar_agente_campo\": {\n",
        "        \"context\": {\"erva_daninha_detectada\": True, \"agente_campo_comunicado\": False},\n",
        "        \"plan\": [\"enviar_alarme_para_agente_campo\"]\n",
        "    },\n",
        "    \"acionar_herbicida_central\": {\n",
        "        \"context\": {\"erva_daninha_detectada\": True, \"agente_herbicida_comunicado\": False, \"coordenadas_agente_campo\": True},\n",
        "        \"plan\": [\"enviar_alarme_para_agente_herbicida\"]\n",
        "    }\n",
        "})\n",
        "\n",
        "app = Flask(__name__)\n",
        "\n",
        "@app.route(\"/agent\", methods=[\"GET\", \"POST\"])\n",
        "def endpoint_agent():\n",
        "    if request.method == \"GET\":\n",
        "        return jsonify(supervisor.beliefs)\n",
        "    if request.method == \"POST\":\n",
        "        novas = request.json\n",
        "        supervisor.add_beliefs(novas)\n",
        "        return jsonify({\"msg\": \"Crenças atualizadas\", \"crencas\": supervisor.beliefs})\n",
        "\n"
      ],
      "metadata": {
        "id": "qYGFWv-V6gp8"
      },
      "execution_count": null,
      "outputs": []
    },
    {
      "cell_type": "markdown",
      "source": [
        "### **🔁 Ciclo BDI Contínuo (ciclo_agente)**\n",
        "\n",
        "Este é o **loop principal** que mantém o agente ativo e deliberando de forma autônoma."
      ],
      "metadata": {
        "id": "WZ7md4K56nO8"
      }
    },
    {
      "cell_type": "code",
      "source": [
        "def ciclo_supervisor():\n",
        "    while True:\n",
        "        supervisor.add_desires(\"analisar_monitoramento\")\n",
        "        supervisor.add_desires(\"acionar_agente_campo\")\n",
        "        supervisor.add_desires(\"acionar_herbicida_central\")\n",
        "\n",
        "        while True:\n",
        "            goal = supervisor.get_desires()\n",
        "            if not goal:\n",
        "                break\n",
        "            supervisor.update_intention(goal)\n",
        "            supervisor.execute_intention()\n",
        "\n",
        "        time.sleep(5)\n",
        "\n",
        "if __name__ == \"__main__\":\n",
        "    threading.Thread(target=ciclo_supervisor, daemon=True).start()\n",
        "    print(\"🧠 Supervisor rodando\")\n",
        "    app.run(host=\"0.0.0.0\", port=5003)"
      ],
      "metadata": {
        "id": "iSbv7kh76ngE"
      },
      "execution_count": null,
      "outputs": []
    }
  ]
}