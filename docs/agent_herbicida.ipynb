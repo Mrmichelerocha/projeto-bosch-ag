{
  "nbformat": 4,
  "nbformat_minor": 0,
  "metadata": {
    "colab": {
      "provenance": []
    },
    "kernelspec": {
      "name": "python3",
      "display_name": "Python 3"
    },
    "language_info": {
      "name": "python"
    }
  },
  "cells": [
    {
      "cell_type": "markdown",
      "source": [
        "# **🧠 O que é o ciclo BDI?**\n",
        "\n",
        "> ⚠️ Este Colab não foi feito para execução do codigo, criei por motivos de explicabilidade do codigo. O codigo deve ser rodado localmente no caminho /code.\n",
        "\n",
        "O **BDI (Belief-Desire-Intention)** é uma arquitetura de agentes baseada na forma como humanos tomam decisões racionais.\n",
        "\n",
        "O ciclo BDI funciona em três camadas:\n",
        "\n",
        "*   **Beliefs (Crenças): o que o agente sabe sobre o mundo.**\n",
        "*   **Desires (Desejos): o que ele quer alcançar.**\n",
        "*   **Intentions (Intenções): os planos escolhidos para agir com base nas crenças e desejos.**\n",
        "\n",
        "\n",
        "O agente repete continuamente esse ciclo:\n",
        "\n",
        "1. **Atualiza suas crenças com novas informações (ex: uma erva daninha detectada).**\n",
        "\n",
        "2. **Seleciona desejos relevantes com base nesse estado.**\n",
        "\n",
        "3. **Escolhe planos válidos (cujos contextos estão de acordo com as crenças).**\n",
        "\n",
        "4. **Executa ações para alcançar os objetivos.**\n",
        "\n",
        "5. **Volta ao início e reavalia tudo.**\n",
        "\n",
        "\n",
        "\n",
        "\n",
        "\n",
        "\n",
        "\n",
        "\n"
      ],
      "metadata": {
        "id": "5zfkh11x6vLW"
      }
    },
    {
      "cell_type": "code",
      "source": [
        "import time\n",
        "import threading\n",
        "import requests\n",
        "from flask import Flask, request, jsonify"
      ],
      "metadata": {
        "id": "LZ_6ERIF6vY-"
      },
      "execution_count": null,
      "outputs": []
    },
    {
      "cell_type": "markdown",
      "source": [
        "### **Agente Herbicida** — `agent_herbicida.py`\n",
        "- O agente herbicida simula um drone que pulveriza o local da plantação que foi detectado como infestado por ervas daninhas. Então espera as crenças enviadas do supervisor para agir:\n",
        "  - `aplicar_herbicida = True`\n",
        "  - `erva_daninha_detectada = True`\n",
        "  - `coordenadas_agente_campo = True`\n",
        "- Após executar a ação, atualiza suas crenças e notifica os agentes de campo e supervisor que terminou sua missão.\n",
        "\n",
        "> A ***PlanLibrary*** armazena os **planos do agente**, associando cada **objetivo (goal)** a um **contexto necessário (pré-condições)** e a uma **sequência de açõe**s que devem ser executadas quando aquele objetivo for ativado.\n",
        "A função ***get_plan()*** verifica se o contexto de um plano é compatível com **as crenças atuais (beliefs)**. Se for, retorna o plano associado; caso contrário, ignora."
      ],
      "metadata": {
        "id": "90b_L_i46wbu"
      }
    },
    {
      "cell_type": "code",
      "execution_count": null,
      "metadata": {
        "id": "d5ThIv7B6rfp"
      },
      "outputs": [],
      "source": [
        "\n",
        "\n",
        "class PlanLibrary:\n",
        "    def __init__(self):\n",
        "        self.plans = {}\n",
        "\n",
        "    def set_plan_library(self, planlb):\n",
        "        self.plans = planlb\n",
        "\n",
        "    def add_plan(self, goal, prec, plan):\n",
        "        self.plans[goal] = {'context': prec, 'plan': plan}\n",
        "\n",
        "    def get_plan(self, goal, bb):\n",
        "        if goal in self.plans:\n",
        "            for key, val in self.plans[goal]['context'].items():\n",
        "                if key not in bb or bb[key] != val:\n",
        "                    return None\n",
        "            return self.plans[goal]['plan']\n",
        "        return None\n",
        "\n"
      ]
    },
    {
      "cell_type": "markdown",
      "source": [
        "## 🔍 `class Action`\n",
        "\n",
        "A classe `Action` do agente herbicida define as tarefas executadas quando o plano de contenção é ativado. Ela representa o comportamento simulado de um drone ou robô que se desloca até o local afetado e executa a missão de eliminação de ervas daninhas.\n",
        "\n",
        "\n",
        "\n",
        "### 🚜 `ir_ate_agente_campo()`\n",
        "- Simula o deslocamento até a área contaminada.\n",
        "- Após um tempo de espera (simulando a viagem), considera que a missão foi executada com sucesso.\n",
        "- Atualiza suas crenças para indicar:\n",
        "  - Que não há mais ervas daninhas.\n",
        "  - Que a missão foi concluída.\n",
        "  - Que o herbicida não precisa mais ser aplicado.\n",
        "\n",
        "**Fluxo:**\n",
        "1. A missão é ativada com base nas crenças enviadas pelo supervisor.\n",
        "2. O herbicida vai até o local e realiza a contenção.\n",
        "3. Atualiza suas crenças internas para refletir o novo estado do ambiente.\n",
        "4. Envia confirmações para os agentes envolvidos.\n"
      ],
      "metadata": {
        "id": "A-wQMkOP6z3v"
      }
    },
    {
      "cell_type": "code",
      "source": [
        "class Action:\n",
        "    def ir_ate_agente_campo(self):\n",
        "        print(\"🚜 Indo até o local do agente de campo...\")\n",
        "        time.sleep(5)\n",
        "        print(\"✅ Chegamos no local e eliminamos as ervas daninhas.\")\n",
        "        agente.add_beliefs({\"erva_daninha_detectada\": False})\n",
        "        agente.add_beliefs({\"aplicar_herbicida\": False})\n",
        "        print(\"✅ Voltando para base.\")\n",
        "        agente.add_beliefs({\"missao_concluida\": True})\n",
        "\n",
        "    def informar_agente_campo(self):\n",
        "        print(\"📡 Enviando confirmação para o agente de campo...\")\n",
        "        try:\n",
        "            crença_agente_campo = {\"erva_daninha\": False}\n",
        "            res = requests.post(\"http://127.0.0.1:5002/agent\", json=crença_agente_campo)\n",
        "            print(f\"📬 Confirmação enviada | Status: {res.status_code}\")\n",
        "        except Exception as e:\n",
        "            print(f\"❌ Erro ao informar agente de campo: {e}\")\n",
        "\n",
        "        agente.add_beliefs({\"contenção_comunicada\": True})\n",
        "\n",
        "    def informar_agente_supervisor(self):\n",
        "        print(\"📡 Enviando confirmação para o agente de campo...\")\n",
        "        try:\n",
        "            crença_agente_supervisor = {\"erva_daninha\": False}\n",
        "            res = requests.post(\"http://127.0.0.1:5003/agent\", json=crença_agente_supervisor)\n",
        "            print(f\"📬 Confirmação enviada | Status: {res.status_code}\")\n",
        "        except Exception as e:\n",
        "            print(f\"❌ Erro ao informar agente de campo: {e}\")\n",
        "\n",
        "        agente.add_beliefs({\"contenção_comunicada\": True})\n",
        "\n"
      ],
      "metadata": {
        "id": "woot4NAw60N-"
      },
      "execution_count": null,
      "outputs": []
    },
    {
      "cell_type": "markdown",
      "source": [
        "### **🤖 Classe Agent (BDI)**\n",
        "\n",
        "A classe `Agent` implementa a lógica principal de um agente inteligente baseado no modelo BDI (*Beliefs-Desires-Intentions*)."
      ],
      "metadata": {
        "id": "tWI89x1t63j-"
      }
    },
    {
      "cell_type": "code",
      "source": [
        "class Agent:\n",
        "    def __init__(self):\n",
        "        self.beliefs = {}\n",
        "        self.desires = []\n",
        "        self.intention = []\n",
        "        self.plan_library = PlanLibrary()\n",
        "\n",
        "    def get_desires(self):\n",
        "        return self.desires.pop() if self.desires else None\n",
        "\n",
        "    def add_desires(self, desire):\n",
        "        self.desires.append(desire)\n",
        "\n",
        "    def add_beliefs(self, beliefs):\n",
        "        self.beliefs.update(beliefs)\n",
        "\n",
        "    def set_plan_library(self, pl):\n",
        "        self.plan_library.set_plan_library(pl)\n",
        "\n",
        "    def update_intention(self, goal):\n",
        "        plan = self.plan_library.get_plan(goal, self.beliefs)\n",
        "        if plan:\n",
        "            self.intention.extend(plan)\n",
        "\n",
        "    def execute_intention(self):\n",
        "        while self.intention:\n",
        "            next_goal = self.intention.pop()\n",
        "            if self.plan_library.get_plan(next_goal, self.beliefs) is None:\n",
        "                action = getattr(Action(), next_goal)\n",
        "                action()\n",
        "            else:\n",
        "                self.intention.extend(self.plan_library.get_plan(next_goal, self.beliefs))\n",
        "\n"
      ],
      "metadata": {
        "id": "ZPMakkjl638v"
      },
      "execution_count": null,
      "outputs": []
    },
    {
      "cell_type": "markdown",
      "source": [
        "### 🗺️ **Planos Definidos (set_plan_library)**\n",
        "\n",
        "- **iniciar_missao:**  \n",
        "  Ativado quando todas as condições críticas são verdadeiras (missão confirmada, localização recebida, e erva daninha detectada). O agente simula o deslocamento até o local e realiza a contenção.\n",
        "\n",
        "- **confirmar_limpeza:**  \n",
        "  Após a missão, se não houver mais erva daninha, e se ainda não houver comunicação registrada, o agente envia notificações para o agente de campo e o supervisor informando que a missão foi concluída.\n",
        "\n",
        "🌐 Endpoint `/agent`\n",
        "\n",
        "- **GET:** permite consultar as crenças atuais do agente herbicida.\n",
        "- **POST:** recebe crenças enviadas por outros agentes (como o supervisor), atualizando seu estado interno.\n",
        "\n",
        "Esse endpoint permite que o agente herbicida se mantenha sincronizado com o restante do sistema e reaja automaticamente ao fluxo de decisões do ecossistema BDI."
      ],
      "metadata": {
        "id": "i5iCSmCP66GX"
      }
    },
    {
      "cell_type": "code",
      "source": [
        "agente = Agent()\n",
        "\n",
        "# Crenças iniciais\n",
        "agente.add_beliefs({\n",
        "    \"aplicar_herbicida\": False,\n",
        "    \"coordenadas_agente_campo\": False,\n",
        "    \"erva_daninha_detectada\": False,\n",
        "    \"contenção_comunicada\": False,\n",
        "    \"missao_concluida\": False\n",
        "})\n",
        "\n",
        "# Biblioteca de planos\n",
        "agente.set_plan_library({\n",
        "    \"iniciar_missao\": {\n",
        "        \"context\": {\n",
        "            \"aplicar_herbicida\": True,\n",
        "            \"coordenadas_agente_campo\": True,\n",
        "            \"erva_daninha_detectada\": True\n",
        "        },\n",
        "        \"plan\": [\"ir_ate_agente_campo\"]\n",
        "    },\n",
        "    \"confirmar_limpeza\": {\n",
        "        \"context\": {\n",
        "            \"erva_daninha_detectada\": False, \"contenção_comunicada\": False, \"missao_concluida\": True\n",
        "        },\n",
        "        \"plan\": [\"informar_agente_campo\", \"informar_agente_supervisor\"]\n",
        "    }\n",
        "})\n",
        "\n",
        "app = Flask(__name__)\n",
        "\n",
        "@app.route(\"/agent\", methods=[\"GET\", \"POST\"])\n",
        "def endpoint_agent():\n",
        "    if request.method == \"GET\":\n",
        "        return jsonify(agente.beliefs)\n",
        "    if request.method == \"POST\":\n",
        "        novas = request.json\n",
        "        agente.add_beliefs(novas)\n",
        "        print(f\"🧠 Novas crenças recebidas: {novas}\")\n",
        "        return jsonify({\"msg\": \"Crenças atualizadas\", \"crencas\": agente.beliefs})\n",
        "\n",
        "\n"
      ],
      "metadata": {
        "id": "gmASRdNw66g_"
      },
      "execution_count": null,
      "outputs": []
    },
    {
      "cell_type": "markdown",
      "source": [
        "### **🔁 Ciclo BDI Contínuo (ciclo_agente)**\n",
        "\n",
        "Este é o **loop principal** que mantém o agente ativo e deliberando de forma autônoma."
      ],
      "metadata": {
        "id": "J9r7c5EH67CP"
      }
    },
    {
      "cell_type": "code",
      "source": [
        "def ciclo_agente():\n",
        "    while True:\n",
        "        agente.add_desires(\"iniciar_missao\")\n",
        "        agente.add_desires(\"confirmar_limpeza\")\n",
        "\n",
        "        while True:\n",
        "            goal = agente.get_desires()\n",
        "            if not goal:\n",
        "                break\n",
        "            agente.update_intention(goal)\n",
        "            agente.execute_intention()\n",
        "\n",
        "        time.sleep(3)\n",
        "\n",
        "if __name__ == \"__main__\":\n",
        "    threading.Thread(target=ciclo_agente, daemon=True).start()\n",
        "    print(\"🌱 Agente Herbicida rodando na porta 5004...\")\n",
        "    app.run(host=\"0.0.0.0\", port=5004)"
      ],
      "metadata": {
        "id": "u02IkDuf67VX"
      },
      "execution_count": null,
      "outputs": []
    }
  ]
}