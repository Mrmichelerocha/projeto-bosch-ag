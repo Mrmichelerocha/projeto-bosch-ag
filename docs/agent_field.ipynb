{
  "nbformat": 4,
  "nbformat_minor": 0,
  "metadata": {
    "colab": {
      "provenance": []
    },
    "kernelspec": {
      "name": "python3",
      "display_name": "Python 3"
    },
    "language_info": {
      "name": "python"
    }
  },
  "cells": [
    {
      "cell_type": "markdown",
      "source": [
        "# **🧠 O que é o ciclo BDI?**\n",
        "\n",
        "> ⚠️ Este Colab não foi feito para execução do codigo, criei por motivos de explicabilidade do codigo. O codigo deve ser rodado localmente no caminho /code.\n",
        "\n",
        "O **BDI (Belief-Desire-Intention)** é uma arquitetura de agentes baseada na forma como humanos tomam decisões racionais.\n",
        "\n",
        "O ciclo BDI funciona em três camadas:\n",
        "\n",
        "*   **Beliefs (Crenças): o que o agente sabe sobre o mundo.**\n",
        "*   **Desires (Desejos): o que ele quer alcançar.**\n",
        "*   **Intentions (Intenções): os planos escolhidos para agir com base nas crenças e desejos.**\n",
        "\n",
        "\n",
        "O agente repete continuamente esse ciclo:\n",
        "\n",
        "1. **Atualiza suas crenças com novas informações (ex: uma erva daninha detectada).**\n",
        "\n",
        "2. **Seleciona desejos relevantes com base nesse estado.**\n",
        "\n",
        "3. **Escolhe planos válidos (cujos contextos estão de acordo com as crenças).**\n",
        "\n",
        "4. **Executa ações para alcançar os objetivos.**\n",
        "\n",
        "5. **Volta ao início e reavalia tudo.**\n",
        "\n",
        "\n",
        "\n",
        "\n",
        "\n",
        "\n"
      ],
      "metadata": {
        "id": "KfQT-pYY3tlc"
      }
    },
    {
      "cell_type": "code",
      "source": [
        "import requests\n",
        "import threading\n",
        "import time\n",
        "from flask import Flask, request, jsonify"
      ],
      "metadata": {
        "id": "ROb93f8Z4Cse"
      },
      "execution_count": null,
      "outputs": []
    },
    {
      "cell_type": "markdown",
      "source": [
        "### **Agente de Campo**  —  `agent_field.py`\n",
        "- Percorre a plantação em tempo real (simulado).\n",
        "- Fornece streaming de imagens via endpoint `/stream`.\n",
        "- Recebe notificações de detecção via `/agent` (POST).\n",
        "- Reage com planos como `parar_monitoramento` e `enviar_coordenadas`.\n",
        "\n",
        "> A ***PlanLibrary*** armazena os **planos do agente**, associando cada **objetivo (goal)** a um **contexto necessário (pré-condições)** e a uma **sequência de açõe**s que devem ser executadas quando aquele objetivo for ativado.\n",
        "A função ***get_plan()*** verifica se o contexto de um plano é compatível com **as crenças atuais (beliefs)**. Se for, retorna o plano associado; caso contrário, ignora."
      ],
      "metadata": {
        "id": "j8fIhpJy7UQm"
      }
    },
    {
      "cell_type": "code",
      "execution_count": null,
      "metadata": {
        "id": "3zUtG4eH3Z9w"
      },
      "outputs": [],
      "source": [
        "class PlanLibrary:\n",
        "    def __init__(self):\n",
        "        self.plans = {}\n",
        "\n",
        "    def set_plan_library(self, planlb):\n",
        "        self.plans = planlb\n",
        "\n",
        "    def add_plan(self, goal, prec, plan):\n",
        "        self.plans[goal] = {'context': prec, 'plan': plan}\n",
        "\n",
        "    def get_plan(self, goal, bb):\n",
        "        if goal in self.plans:\n",
        "            if set(self.plans[goal]['context'].items()).issubset(bb.items()):\n",
        "                return self.plans[goal]['plan']\n",
        "        return None"
      ]
    },
    {
      "cell_type": "markdown",
      "source": [
        "### 📦 `class Action`\n",
        "\n",
        "Essa classe contém as **ações** que o agente pode executar. Cada método representa uma **ação física ou comunicacional**, e é chamado automaticamente quando um plano é ativado.\n",
        "\n",
        "- **`percorrer_local_definido()`**  \n",
        "  Simula o agente de campo patrulhando a área.  \n",
        "  Reseta a crença `envio_coordenadas` para `False`, preparando para futuras atualizações.\n",
        "\n",
        "- **`parar_monitoramento()`**  \n",
        "  Quando o agente supervisor detecta anomalias na transmissão do agente, ele para sua atividades e espera no local.\n",
        "\n",
        "- **`enviar_coordenadas_ao_supervisor()`**  \n",
        "  Como o supervisor detectou anomalias na plantação, o agente de campo precisa passar suas coordenadas para o agente supervisor mandar auxilio."
      ],
      "metadata": {
        "id": "qhbjeslv5auS"
      }
    },
    {
      "cell_type": "code",
      "source": [
        "class Action:\n",
        "    def percorrer_local_definido(self):\n",
        "        agente.add_beliefs({\"envio_coordenadas\": False,})\n",
        "        print(\"🚜 Percorrendo local definido...\")\n",
        "\n",
        "    def parar_monitoramento(self):\n",
        "        print(\"⛔ Monitoramento interrompido.\")\n",
        "\n",
        "    def enviar_coordenadas_ao_supervisor(self):\n",
        "        print(\"⚠️ Enviando coordenadas ao supervisor e atualizando minha crença local...\")\n",
        "\n",
        "        # Envia as coordenadas e crença para o supervisor\n",
        "        try:\n",
        "            crença_supervisor = {\"coordenadas_agente_campo\": True}\n",
        "            res = requests.post(\"http://127.0.0.1:5003/agent\", json=crença_supervisor)\n",
        "            print(f\"📨 Supervisor notificado | Status: {res.status_code}\")\n",
        "        except Exception as e:\n",
        "            print(f\"❌ Falha ao notificar supervisor: {e}\")\n",
        "\n",
        "        agente.add_beliefs({\"envio_coordenadas\": True,})\n",
        "        print(\"📡 Coordenadas enviadas ao supervisor!\")\n",
        "\n",
        "    def aguardar_contenção_de_pragas(self):\n",
        "        print(\"⏳ Aguardando contenção de pragas...\")\n",
        "\n"
      ],
      "metadata": {
        "id": "w5f6Tdx34TLo"
      },
      "execution_count": null,
      "outputs": []
    },
    {
      "cell_type": "markdown",
      "source": [
        "### **🤖 Classe Agent (BDI)**\n",
        "\n",
        "A classe `Agent` implementa a lógica principal de um agente inteligente baseado no modelo BDI (*Beliefs-Desires-Intentions*)."
      ],
      "metadata": {
        "id": "Mz-8YWzC_Bg_"
      }
    },
    {
      "cell_type": "code",
      "source": [
        "class Agent:\n",
        "    def __init__(self):\n",
        "        self.beliefs = {}\n",
        "        self.desires = []\n",
        "        self.intention = []\n",
        "        self.plan_library = PlanLibrary()\n",
        "\n",
        "    def get_desires(self):\n",
        "        return self.desires.pop() if self.desires else None\n",
        "\n",
        "    def add_desires(self, desire):\n",
        "        self.desires.append(desire)\n",
        "\n",
        "    def add_beliefs(self, beliefs):\n",
        "        self.beliefs.update(beliefs)\n",
        "\n",
        "    def set_plan_library(self, pl):\n",
        "        self.plan_library.set_plan_library(pl)\n",
        "\n",
        "    def update_intention(self, goal):\n",
        "        plan = self.plan_library.get_plan(goal, self.beliefs)\n",
        "        if plan:\n",
        "            self.intention.extend(plan)\n",
        "\n",
        "    def execute_intention(self):\n",
        "        while self.intention:\n",
        "            next_goal = self.intention.pop()\n",
        "            if self.plan_library.get_plan(next_goal, self.beliefs) is None:\n",
        "                action = getattr(Action(), next_goal)\n",
        "                action()\n",
        "            else:\n",
        "                self.intention.extend(self.plan_library.get_plan(next_goal, self.beliefs))\n"
      ],
      "metadata": {
        "id": "1LJS2bIj_B2E"
      },
      "execution_count": null,
      "outputs": []
    },
    {
      "cell_type": "markdown",
      "source": [
        "### 🗺️ **Planos Definidos (set_plan_library)**\n",
        "- **monitorar_trigo:** quando não há erva daninha, o agente patrulha o local.\n",
        "\n",
        "- **alerta_ervaDaninha:** caso o supervisor ache as ervas daninhas, o agente de campo interrompe a patrulha e envia localização ao supervisor.\n",
        "\n",
        "- **aguardando_contençãoPragas:** após notificação, aguarda o herbicida.\n",
        "\n",
        "🌐 Endpoints REST\n",
        "- **GET /agent:** retorna as crenças atuais do agente.\n",
        "\n",
        "- **POST /agent:** atualiza crenças com um JSON enviado por outro agente (ex: supervisor).\n",
        "\n",
        "- **GET /stream:** simula um frame de imagem enviado pelo ESP32CAM."
      ],
      "metadata": {
        "id": "hJwsXuiu5f4y"
      }
    },
    {
      "cell_type": "code",
      "source": [
        "app = Flask(__name__)\n",
        "agente = Agent()\n",
        "\n",
        "# Crenças iniciais\n",
        "agente.add_beliefs({\n",
        "    \"erva_daninha\": False,\n",
        "    \"local\": \"ponto_1\",\n",
        "    \"envio_coordenadas\": False\n",
        "})\n",
        "\n",
        "# Biblioteca de planos\n",
        "agente.set_plan_library({\n",
        "    \"monitorar_trigo\": {\n",
        "        \"context\": {\"erva_daninha\": False},\n",
        "        \"plan\": [\"percorrer_local_definido\"]\n",
        "    },\n",
        "    \"alerta_ervaDaninha\": {\n",
        "        \"context\": {\"erva_daninha\": True, \"envio_coordenadas\": False},\n",
        "        \"plan\": [\"parar_monitoramento\", \"enviar_coordenadas_ao_supervisor\"]\n",
        "    },\n",
        "    \"aguardando_contençãoPragas\": {\n",
        "        \"context\": {\"erva_daninha\": True, \"envio_coordenadas\": True},\n",
        "        \"plan\": [\"aguardar_contenção_de_pragas\"]\n",
        "    }\n",
        "})\n",
        "\n",
        "\n",
        "@app.route(\"/agent\", methods=[\"GET\", \"POST\"])\n",
        "def agent_endpoint():\n",
        "    if request.method == \"GET\":\n",
        "        return jsonify(agente.beliefs)\n",
        "    elif request.method == \"POST\":\n",
        "        new_beliefs = request.json\n",
        "        agente.add_beliefs(new_beliefs)\n",
        "        return jsonify({\"msg\": \"Crenças atualizadas\", \"novas_crencas\": agente.beliefs})\n",
        "\n",
        "# Simulação do /stream\n",
        "@app.route(\"/stream\", methods=[\"GET\"])\n",
        "def stream():\n",
        "    return jsonify({\"frame\": \"frame_213.jpg\"})\n"
      ],
      "metadata": {
        "id": "g_6s_d6U5gMD"
      },
      "execution_count": null,
      "outputs": []
    },
    {
      "cell_type": "markdown",
      "source": [
        "### **🔁 Ciclo BDI Contínuo (ciclo_agente)**\n",
        "\n",
        "Este é o **loop principal** que mantém o agente ativo e deliberando de forma autônoma."
      ],
      "metadata": {
        "id": "0JZk2CEB5l9b"
      }
    },
    {
      "cell_type": "code",
      "source": [
        "# Ciclo BDI contínuo\n",
        "def ciclo_agente():\n",
        "    while True:\n",
        "        if not agente.desires:\n",
        "            agente.add_desires(\"monitorar_trigo\")\n",
        "            agente.add_desires(\"alerta_ervaDaninha\")\n",
        "            agente.add_desires(\"aguardando_contençãoPragas\")\n",
        "        goal = agente.get_desires()\n",
        "        if goal:\n",
        "            agente.update_intention(goal)\n",
        "            agente.execute_intention()\n",
        "        time.sleep(2)\n",
        "\n",
        "if __name__ == \"__main__\":\n",
        "    threading.Thread(target=ciclo_agente, daemon=True).start()\n",
        "    app.run(host=\"0.0.0.0\", port=5002)"
      ],
      "metadata": {
        "id": "ZIJRIl645nQs"
      },
      "execution_count": null,
      "outputs": []
    }
  ]
}